{
 "cells": [
  {
   "cell_type": "markdown",
   "metadata": {},
   "source": [
    "### Changelog\n",
    "#### 1. 使用原始数据，未做regularize，使用2层same padding卷积，步长为2的池化，两个全连接层，88.7%的准确率(Linux platform)\n",
    "#### 2. 和1中的所有操作相同的，但是做了regularize，准确率88.84%(linux platform)\n",
    "#### 3. 利用2中的regularization，将卷积核的大小改为5，padding为2，准确率为89.15%(windows platform)"
   ]
  },
  {
   "cell_type": "code",
   "execution_count": 1,
   "metadata": {},
   "outputs": [],
   "source": [
    "import numpy as np\n",
    "import torch\n",
    "import torch.nn as nn\n",
    "import torch.optim as optim\n",
    "import matplotlib.pyplot as plt\n",
    "\n",
    "%matplotlib inline"
   ]
  },
  {
   "cell_type": "code",
   "execution_count": 2,
   "metadata": {},
   "outputs": [],
   "source": [
    "label_to_description = {0: 'T-shirt/top', 1: 'Trouser', 2: 'Pullover', 3: 'Dress',\n",
    "                        4: 'Coat', 5: 'Sandal', 6: 'Shirt',\n",
    "                       7: 'Sneaker', 8: 'Bag', 9: 'Ankle boot',\n",
    "                        }"
   ]
  },
  {
   "cell_type": "code",
   "execution_count": 3,
   "metadata": {},
   "outputs": [
    {
     "name": "stdout",
     "output_type": "stream",
     "text": [
      "torch.Size([60000, 28, 28]) torch.Size([60000])\n",
      "tensor(9)\n",
      "tensor(0)\n"
     ]
    }
   ],
   "source": [
    "# path_to_datasets = '/home/lor/Datasets/FashionMNIST/FashionMNIST/processed/training.pt'\n",
    "path_to_datasets = 'E:/data/FashionMNIST/FashionMNIST/processed/training.pt'\n",
    "samples = torch.load(path_to_datasets)\n",
    "features = samples[0]\n",
    "targets = samples[1]\n",
    "print(features.shape, targets.shape)\n",
    "print(targets.max())\n",
    "print(targets.min())"
   ]
  },
  {
   "cell_type": "code",
   "execution_count": 4,
   "metadata": {},
   "outputs": [
    {
     "data": {
      "image/png": "[encoded data removed]",
      "text/plain": [
       "<Figure size 432x288 with 2 Axes>"
      ]
     },
     "metadata": {
      "needs_background": "light"
     },
     "output_type": "display_data"
    }
   ],
   "source": [
    "ax = plt.subplot(2, 2, 1)\n",
    "plt.imshow(np.array(features[3]), cmap='gray')\n",
    "ax.set_title(label_to_description[targets.storage()[3]])\n",
    "ax = plt.subplot(2, 2, 2)\n",
    "plt.imshow(np.array(features[4]), cmap='gray')\n",
    "ax.set_title(label_to_description[targets.storage()[4]])\n",
    "plt.show()\n",
    "# plt.title(label_to_description[targets.storage()[3]])\n",
    "# label_to_description[targets.storage()[3]]"
   ]
  },
  {
   "cell_type": "code",
   "execution_count": 5,
   "metadata": {},
   "outputs": [],
   "source": [
    "from torch.utils.data import Dataset, DataLoader"
   ]
  },
  {
   "cell_type": "code",
   "execution_count": 6,
   "metadata": {},
   "outputs": [],
   "source": [
    "class UserDataset(Dataset):\n",
    "    def __init__(self, features, targets):\n",
    "        self.features = features\n",
    "        self.targets = targets\n",
    "        \n",
    "    def __len__(self):\n",
    "        return len(self.targets)\n",
    "    \n",
    "    def __getitem__(self, idx):\n",
    "        target = self.targets[idx]\n",
    "        feature = self.features[idx].unsqueeze(0).float()\n",
    "        feature = (feature - torch.min(feature)) / (torch.max(feature) - torch.min(feature))\n",
    "        return (target, feature)"
   ]
  },
  {
   "cell_type": "code",
   "execution_count": 16,
   "metadata": {},
   "outputs": [],
   "source": [
    "train_dataset = UserDataset(features, targets)\n",
    "train_dataloader = DataLoader(train_dataset, batch_size=32, shuffle=True, num_workers=0)"
   ]
  },
  {
   "cell_type": "code",
   "execution_count": 17,
   "metadata": {},
   "outputs": [
    {
     "data": {
      "text/plain": [
       "tensor([1, 8, 3, 0, 5, 5, 9, 5, 2, 7, 4, 3, 0, 4, 0, 3, 6, 2, 9, 3, 9, 3, 3, 6,\n",
       "        5, 6, 7, 0, 8, 4, 7, 0])"
      ]
     },
     "execution_count": 17,
     "metadata": {},
     "output_type": "execute_result"
    }
   ],
   "source": [
    "one_iter = next(iter(train_dataloader))\n",
    "one_iter[0].reshape(-1)"
   ]
  },
  {
   "cell_type": "code",
   "execution_count": 18,
   "metadata": {},
   "outputs": [
    {
     "data": {
      "image/png": "[encoded data removed]",
      "text/plain": [
       "<Figure size 432x288 with 10 Axes>"
      ]
     },
     "metadata": {
      "needs_background": "light"
     },
     "output_type": "display_data"
    }
   ],
   "source": [
    "for i in range(10):\n",
    "    ax = plt.subplot(2, 5, i + 1)\n",
    "    plt.imshow(one_iter[1][i][0], cmap='gray')\n",
    "    plt.axis('off')\n",
    "    ax.set_title(label_to_description[one_iter[0].storage()[i]])"
   ]
  },
  {
   "cell_type": "code",
   "execution_count": 19,
   "metadata": {},
   "outputs": [],
   "source": [
    "class Network(nn.Module):\n",
    "    def __init__(self):\n",
    "        super(Network, self).__init__()\n",
    "        \n",
    "        self.conv1 = nn.Sequential(\n",
    "                        nn.Conv2d(1, 16, kernel_size=(5, 5), stride=1, padding=2),\n",
    "                        nn.BatchNorm2d(16),\n",
    "                        nn.ReLU(),\n",
    "                        nn.MaxPool2d(kernel_size=(2, 2), stride=2)\n",
    "        )\n",
    "        \n",
    "        self.conv2 = nn.Sequential(\n",
    "                        nn.Conv2d(16, 24, kernel_size=(5, 5), stride=1, padding=2),\n",
    "                        nn.BatchNorm2d(24),\n",
    "                        nn.ReLU(),\n",
    "                        nn.MaxPool2d(kernel_size=(2, 2), stride=2)\n",
    "        )\n",
    "        \n",
    "        self.fc1 = nn.Linear(7 * 7 * 24, 32)\n",
    "        self.fc2 = nn.Linear(32, 10)\n",
    "    \n",
    "    def forward(self, x):\n",
    "        out = self.conv1(x)\n",
    "        out = self.conv2(out)\n",
    "        out = out.reshape(out.shape[0], -1)\n",
    "        out = self.fc1(out)\n",
    "        res = self.fc2(out)\n",
    "        \n",
    "        return res"
   ]
  },
  {
   "cell_type": "code",
   "execution_count": 20,
   "metadata": {},
   "outputs": [],
   "source": [
    "device = torch.device(\"cuda:0\" if torch.cuda.is_available() else \"cpu\")\n",
    "net = Network()\n",
    "net.to(device)\n",
    "loss = nn.CrossEntropyLoss()\n",
    "optimizer = optim.SGD(net.parameters(), lr=1e-3)\n",
    "\n",
    "total_step = len(train_dataloader)"
   ]
  },
  {
   "cell_type": "code",
   "execution_count": 21,
   "metadata": {},
   "outputs": [
    {
     "name": "stdout",
     "output_type": "stream",
     "text": [
      "Epoch [1/10], Step [100/1875], Loss: 1.7990\n",
      "Epoch [1/10], Step [200/1875], Loss: 1.5226\n",
      "Epoch [1/10], Step [300/1875], Loss: 0.9955\n",
      "Epoch [1/10], Step [400/1875], Loss: 1.0018\n",
      "Epoch [1/10], Step [500/1875], Loss: 1.0303\n",
      "Epoch [1/10], Step [600/1875], Loss: 0.8267\n",
      "Epoch [1/10], Step [700/1875], Loss: 0.8425\n",
      "Epoch [1/10], Step [800/1875], Loss: 0.7761\n",
      "Epoch [1/10], Step [900/1875], Loss: 0.7510\n",
      "Epoch [1/10], Step [1000/1875], Loss: 0.6794\n",
      "Epoch [1/10], Step [1100/1875], Loss: 0.6408\n",
      "Epoch [1/10], Step [1200/1875], Loss: 0.5702\n",
      "Epoch [1/10], Step [1300/1875], Loss: 0.7212\n",
      "Epoch [1/10], Step [1400/1875], Loss: 0.8745\n",
      "Epoch [1/10], Step [1500/1875], Loss: 0.4035\n",
      "Epoch [1/10], Step [1600/1875], Loss: 0.7116\n",
      "Epoch [1/10], Step [1700/1875], Loss: 0.7118\n",
      "Epoch [1/10], Step [1800/1875], Loss: 0.3631\n",
      "Epoch [2/10], Step [100/1875], Loss: 0.4034\n",
      "Epoch [2/10], Step [200/1875], Loss: 0.4195\n",
      "Epoch [2/10], Step [300/1875], Loss: 0.7409\n",
      "Epoch [2/10], Step [400/1875], Loss: 0.5350\n",
      "Epoch [2/10], Step [500/1875], Loss: 0.4809\n",
      "Epoch [2/10], Step [600/1875], Loss: 0.6062\n",
      "Epoch [2/10], Step [700/1875], Loss: 0.6040\n",
      "Epoch [2/10], Step [800/1875], Loss: 0.6395\n",
      "Epoch [2/10], Step [900/1875], Loss: 0.5891\n",
      "Epoch [2/10], Step [1000/1875], Loss: 0.4277\n",
      "Epoch [2/10], Step [1100/1875], Loss: 0.5250\n",
      "Epoch [2/10], Step [1200/1875], Loss: 0.4631\n",
      "Epoch [2/10], Step [1300/1875], Loss: 0.5047\n",
      "Epoch [2/10], Step [1400/1875], Loss: 0.4653\n",
      "Epoch [2/10], Step [1500/1875], Loss: 0.5175\n",
      "Epoch [2/10], Step [1600/1875], Loss: 0.5165\n",
      "Epoch [2/10], Step [1700/1875], Loss: 0.6301\n",
      "Epoch [2/10], Step [1800/1875], Loss: 0.2596\n",
      "Epoch [3/10], Step [100/1875], Loss: 0.5042\n",
      "Epoch [3/10], Step [200/1875], Loss: 0.3485\n",
      "Epoch [3/10], Step [300/1875], Loss: 0.5739\n",
      "Epoch [3/10], Step [400/1875], Loss: 0.5287\n",
      "Epoch [3/10], Step [500/1875], Loss: 0.3392\n",
      "Epoch [3/10], Step [600/1875], Loss: 0.5163\n",
      "Epoch [3/10], Step [700/1875], Loss: 0.6813\n",
      "Epoch [3/10], Step [800/1875], Loss: 0.4410\n",
      "Epoch [3/10], Step [900/1875], Loss: 0.3021\n",
      "Epoch [3/10], Step [1000/1875], Loss: 0.4965\n",
      "Epoch [3/10], Step [1100/1875], Loss: 0.4372\n",
      "Epoch [3/10], Step [1200/1875], Loss: 0.2596\n",
      "Epoch [3/10], Step [1300/1875], Loss: 0.4712\n",
      "Epoch [3/10], Step [1400/1875], Loss: 0.4639\n",
      "Epoch [3/10], Step [1500/1875], Loss: 0.4507\n",
      "Epoch [3/10], Step [1600/1875], Loss: 0.3922\n",
      "Epoch [3/10], Step [1700/1875], Loss: 0.4156\n",
      "Epoch [3/10], Step [1800/1875], Loss: 0.4920\n",
      "Epoch [4/10], Step [100/1875], Loss: 0.5374\n",
      "Epoch [4/10], Step [200/1875], Loss: 0.4705\n",
      "Epoch [4/10], Step [300/1875], Loss: 0.3842\n",
      "Epoch [4/10], Step [400/1875], Loss: 0.4384\n",
      "Epoch [4/10], Step [500/1875], Loss: 0.1835\n",
      "Epoch [4/10], Step [600/1875], Loss: 0.4357\n",
      "Epoch [4/10], Step [700/1875], Loss: 0.2994\n",
      "Epoch [4/10], Step [800/1875], Loss: 0.2136\n",
      "Epoch [4/10], Step [900/1875], Loss: 0.5122\n",
      "Epoch [4/10], Step [1000/1875], Loss: 0.3952\n",
      "Epoch [4/10], Step [1100/1875], Loss: 0.4263\n",
      "Epoch [4/10], Step [1200/1875], Loss: 0.3356\n",
      "Epoch [4/10], Step [1300/1875], Loss: 0.2753\n",
      "Epoch [4/10], Step [1400/1875], Loss: 0.2300\n",
      "Epoch [4/10], Step [1500/1875], Loss: 0.4215\n",
      "Epoch [4/10], Step [1600/1875], Loss: 0.3921\n",
      "Epoch [4/10], Step [1700/1875], Loss: 0.2827\n",
      "Epoch [4/10], Step [1800/1875], Loss: 0.5606\n",
      "Epoch [5/10], Step [100/1875], Loss: 0.4143\n",
      "Epoch [5/10], Step [200/1875], Loss: 0.3344\n",
      "Epoch [5/10], Step [300/1875], Loss: 0.2398\n",
      "Epoch [5/10], Step [400/1875], Loss: 0.3661\n",
      "Epoch [5/10], Step [500/1875], Loss: 0.2737\n",
      "Epoch [5/10], Step [600/1875], Loss: 0.3472\n",
      "Epoch [5/10], Step [700/1875], Loss: 0.3132\n",
      "Epoch [5/10], Step [800/1875], Loss: 0.2750\n",
      "Epoch [5/10], Step [900/1875], Loss: 0.2790\n",
      "Epoch [5/10], Step [1000/1875], Loss: 0.1420\n",
      "Epoch [5/10], Step [1100/1875], Loss: 0.4067\n",
      "Epoch [5/10], Step [1200/1875], Loss: 0.3024\n",
      "Epoch [5/10], Step [1300/1875], Loss: 0.3964\n",
      "Epoch [5/10], Step [1400/1875], Loss: 0.4786\n",
      "Epoch [5/10], Step [1500/1875], Loss: 0.3313\n",
      "Epoch [5/10], Step [1600/1875], Loss: 0.1304\n",
      "Epoch [5/10], Step [1700/1875], Loss: 0.7493\n",
      "Epoch [5/10], Step [1800/1875], Loss: 0.3174\n",
      "Epoch [6/10], Step [100/1875], Loss: 0.3851\n",
      "Epoch [6/10], Step [200/1875], Loss: 0.4343\n",
      "Epoch [6/10], Step [300/1875], Loss: 0.6387\n",
      "Epoch [6/10], Step [400/1875], Loss: 0.5112\n",
      "Epoch [6/10], Step [500/1875], Loss: 0.2830\n",
      "Epoch [6/10], Step [600/1875], Loss: 0.2692\n",
      "Epoch [6/10], Step [700/1875], Loss: 0.5552\n",
      "Epoch [6/10], Step [800/1875], Loss: 0.6212\n",
      "Epoch [6/10], Step [900/1875], Loss: 0.4306\n",
      "Epoch [6/10], Step [1000/1875], Loss: 0.5740\n",
      "Epoch [6/10], Step [1100/1875], Loss: 0.3237\n",
      "Epoch [6/10], Step [1200/1875], Loss: 0.3243\n",
      "Epoch [6/10], Step [1300/1875], Loss: 0.4231\n",
      "Epoch [6/10], Step [1400/1875], Loss: 0.3263\n",
      "Epoch [6/10], Step [1500/1875], Loss: 0.3491\n",
      "Epoch [6/10], Step [1600/1875], Loss: 0.3913\n",
      "Epoch [6/10], Step [1700/1875], Loss: 0.4145\n",
      "Epoch [6/10], Step [1800/1875], Loss: 0.5278\n",
      "Epoch [7/10], Step [100/1875], Loss: 0.2751\n",
      "Epoch [7/10], Step [200/1875], Loss: 0.5161\n",
      "Epoch [7/10], Step [300/1875], Loss: 0.3896\n",
      "Epoch [7/10], Step [400/1875], Loss: 0.2239\n",
      "Epoch [7/10], Step [500/1875], Loss: 0.3149\n",
      "Epoch [7/10], Step [600/1875], Loss: 0.4157\n",
      "Epoch [7/10], Step [700/1875], Loss: 0.4987\n",
      "Epoch [7/10], Step [800/1875], Loss: 0.5161\n",
      "Epoch [7/10], Step [900/1875], Loss: 0.1251\n",
      "Epoch [7/10], Step [1000/1875], Loss: 0.2395\n",
      "Epoch [7/10], Step [1100/1875], Loss: 0.5283\n",
      "Epoch [7/10], Step [1200/1875], Loss: 0.3228\n",
      "Epoch [7/10], Step [1300/1875], Loss: 0.3661\n",
      "Epoch [7/10], Step [1400/1875], Loss: 0.4217\n",
      "Epoch [7/10], Step [1500/1875], Loss: 0.2680\n",
      "Epoch [7/10], Step [1600/1875], Loss: 0.3129\n",
      "Epoch [7/10], Step [1700/1875], Loss: 0.2080\n",
      "Epoch [7/10], Step [1800/1875], Loss: 0.3732\n",
      "Epoch [8/10], Step [100/1875], Loss: 0.4937\n",
      "Epoch [8/10], Step [200/1875], Loss: 0.2483\n",
      "Epoch [8/10], Step [300/1875], Loss: 0.1425\n",
      "Epoch [8/10], Step [400/1875], Loss: 0.2334\n",
      "Epoch [8/10], Step [500/1875], Loss: 0.5535\n",
      "Epoch [8/10], Step [600/1875], Loss: 0.2589\n",
      "Epoch [8/10], Step [700/1875], Loss: 0.2881\n",
      "Epoch [8/10], Step [800/1875], Loss: 0.4167\n",
      "Epoch [8/10], Step [900/1875], Loss: 0.3328\n",
      "Epoch [8/10], Step [1000/1875], Loss: 0.2073\n",
      "Epoch [8/10], Step [1100/1875], Loss: 0.2342\n",
      "Epoch [8/10], Step [1200/1875], Loss: 0.1906\n",
      "Epoch [8/10], Step [1300/1875], Loss: 0.5848\n",
      "Epoch [8/10], Step [1400/1875], Loss: 0.4056\n",
      "Epoch [8/10], Step [1500/1875], Loss: 0.2629\n",
      "Epoch [8/10], Step [1600/1875], Loss: 0.2872\n",
      "Epoch [8/10], Step [1700/1875], Loss: 0.2781\n",
      "Epoch [8/10], Step [1800/1875], Loss: 0.2746\n",
      "Epoch [9/10], Step [100/1875], Loss: 0.2060\n",
      "Epoch [9/10], Step [200/1875], Loss: 0.2688\n",
      "Epoch [9/10], Step [300/1875], Loss: 0.3167\n",
      "Epoch [9/10], Step [400/1875], Loss: 0.2936\n",
      "Epoch [9/10], Step [500/1875], Loss: 0.1571\n",
      "Epoch [9/10], Step [600/1875], Loss: 0.2214\n",
      "Epoch [9/10], Step [700/1875], Loss: 0.2594\n",
      "Epoch [9/10], Step [800/1875], Loss: 0.1067\n",
      "Epoch [9/10], Step [900/1875], Loss: 0.2331\n",
      "Epoch [9/10], Step [1000/1875], Loss: 0.4538\n",
      "Epoch [9/10], Step [1100/1875], Loss: 0.2801\n",
      "Epoch [9/10], Step [1200/1875], Loss: 0.3231\n",
      "Epoch [9/10], Step [1300/1875], Loss: 0.2725\n",
      "Epoch [9/10], Step [1400/1875], Loss: 0.2466\n",
      "Epoch [9/10], Step [1500/1875], Loss: 0.1465\n",
      "Epoch [9/10], Step [1600/1875], Loss: 0.2903\n",
      "Epoch [9/10], Step [1700/1875], Loss: 0.1394\n",
      "Epoch [9/10], Step [1800/1875], Loss: 0.2004\n",
      "Epoch [10/10], Step [100/1875], Loss: 0.2574\n",
      "Epoch [10/10], Step [200/1875], Loss: 0.3052\n",
      "Epoch [10/10], Step [300/1875], Loss: 0.2736\n",
      "Epoch [10/10], Step [400/1875], Loss: 0.6127\n",
      "Epoch [10/10], Step [500/1875], Loss: 0.4212\n",
      "Epoch [10/10], Step [600/1875], Loss: 0.3351\n",
      "Epoch [10/10], Step [700/1875], Loss: 0.6006\n",
      "Epoch [10/10], Step [800/1875], Loss: 0.2818\n",
      "Epoch [10/10], Step [900/1875], Loss: 0.2377\n",
      "Epoch [10/10], Step [1000/1875], Loss: 0.2291\n",
      "Epoch [10/10], Step [1100/1875], Loss: 0.4664\n",
      "Epoch [10/10], Step [1200/1875], Loss: 0.2600\n",
      "Epoch [10/10], Step [1300/1875], Loss: 0.2580\n",
      "Epoch [10/10], Step [1400/1875], Loss: 0.3556\n",
      "Epoch [10/10], Step [1500/1875], Loss: 0.4071\n",
      "Epoch [10/10], Step [1600/1875], Loss: 0.2265\n",
      "Epoch [10/10], Step [1700/1875], Loss: 0.2345\n",
      "Epoch [10/10], Step [1800/1875], Loss: 0.3443\n"
     ]
    }
   ],
   "source": [
    "num_epochs = 10\n",
    "for epoch in range(num_epochs):\n",
    "    for i, (target, feature) in enumerate(train_dataloader):\n",
    "        target, feature = target.to(device), feature.to(device)\n",
    "        out = net(feature)\n",
    "#         out = out.reshape(-1)\n",
    "        target = target.reshape(-1)\n",
    "        criterion = loss(out, target)\n",
    "        \n",
    "        optimizer.zero_grad()\n",
    "        criterion.backward()\n",
    "        optimizer.step()\n",
    "        \n",
    "        if (i + 1) % 100 == 0:\n",
    "            print('Epoch [{}/{}], Step [{}/{}], Loss: {:.4f}' \n",
    "                   .format(epoch+1, num_epochs, i+1, total_step, criterion.item()))\n",
    "        "
   ]
  },
  {
   "cell_type": "code",
   "execution_count": 22,
   "metadata": {},
   "outputs": [
    {
     "name": "stdout",
     "output_type": "stream",
     "text": [
      "torch.Size([10000, 28, 28])\n",
      "torch.Size([10000])\n"
     ]
    }
   ],
   "source": [
    "### 验证\n",
    "test_path = 'E:/data/FashionMNIST/FashionMNIST/processed/test.pt'\n",
    "# test_path = '/home/lor/Datasets/FashionMNIST/FashionMNIST/processed/test.pt'\n",
    "test_dataset = torch.load(test_path)\n",
    "print(test_dataset[0].shape)\n",
    "print(test_dataset[1].shape)"
   ]
  },
  {
   "cell_type": "code",
   "execution_count": 23,
   "metadata": {},
   "outputs": [],
   "source": [
    "test_dataset = UserDataset(test_dataset[0], test_dataset[1])\n",
    "test_dataloader = DataLoader(test_dataset, batch_size=1, shuffle=True, num_workers=0)"
   ]
  },
  {
   "cell_type": "code",
   "execution_count": 24,
   "metadata": {},
   "outputs": [
    {
     "name": "stdout",
     "output_type": "stream",
     "text": [
      "Accuracy: 87.46%\n"
     ]
    }
   ],
   "source": [
    "total = 10000\n",
    "pred_count = 0\n",
    "for (target, feature) in test_dataloader:\n",
    "#     print(target.shape)\n",
    "#     print(feature.shape)\n",
    "    target = target.to(device)\n",
    "    feature = feature.to(device)\n",
    "    out = net(feature)\n",
    "#     print(torch.argmax(out, 1))\n",
    "#     print(target)\n",
    "#     print(torch.argmax(out, 1) == target)\n",
    "#     print((torch.argmax(out, 1) == target).sum().item())\n",
    "    pred_count = pred_count + (torch.argmax(out, 1) == target).sum().item()\n",
    "#     break\n",
    "print(\"Accuracy: {0}%\".format(100 * pred_count / total))"
   ]
  },
  {
   "cell_type": "code",
   "execution_count": 25,
   "metadata": {},
   "outputs": [],
   "source": [
    "# Save the model\n",
    "torch.save(net.state_dict(), './net.pt')"
   ]
  },
  {
   "cell_type": "code",
   "execution_count": 37,
   "metadata": {},
   "outputs": [
    {
     "data": {
      "text/plain": [
       "<All keys matched successfully>"
      ]
     },
     "execution_count": 37,
     "metadata": {},
     "output_type": "execute_result"
    }
   ],
   "source": [
    "# Load the model\n",
    "oth_net = Network()\n",
    "oth_net.load_state_dict(torch.load('./net.pt'))"
   ]
  },
  {
   "cell_type": "code",
   "execution_count": 38,
   "metadata": {},
   "outputs": [
    {
     "data": {
      "text/plain": [
       "Network(\n",
       "  (conv1): Sequential(\n",
       "    (0): Conv2d(1, 16, kernel_size=(3, 3), stride=(1, 1), padding=(1, 1))\n",
       "    (1): BatchNorm2d(16, eps=1e-05, momentum=0.1, affine=True, track_running_stats=True)\n",
       "    (2): ReLU()\n",
       "    (3): MaxPool2d(kernel_size=(2, 2), stride=2, padding=0, dilation=1, ceil_mode=False)\n",
       "  )\n",
       "  (conv2): Sequential(\n",
       "    (0): Conv2d(16, 24, kernel_size=(3, 3), stride=(1, 1), padding=(1, 1))\n",
       "    (1): BatchNorm2d(24, eps=1e-05, momentum=0.1, affine=True, track_running_stats=True)\n",
       "    (2): ReLU()\n",
       "    (3): MaxPool2d(kernel_size=(2, 2), stride=2, padding=0, dilation=1, ceil_mode=False)\n",
       "  )\n",
       "  (fc1): Linear(in_features=1176, out_features=32, bias=True)\n",
       "  (fc2): Linear(in_features=32, out_features=10, bias=True)\n",
       ")"
      ]
     },
     "execution_count": 38,
     "metadata": {},
     "output_type": "execute_result"
    }
   ],
   "source": [
    "oth_net.eval()"
   ]
  }
 ],
 "metadata": {
  "kernelspec": {
   "display_name": "Python 3",
   "language": "python",
   "name": "python3"
  },
  "language_info": {
   "codemirror_mode": {
    "name": "ipython",
    "version": 3
   },
   "file_extension": ".py",
   "mimetype": "text/x-python",
   "name": "python",
   "nbconvert_exporter": "python",
   "pygments_lexer": "ipython3",
   "version": "3.7.4"
  }
 },
 "nbformat": 4,
 "nbformat_minor": 4
}
